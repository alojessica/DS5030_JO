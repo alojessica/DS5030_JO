{
 "cells": [
  {
   "cell_type": "markdown",
   "id": "87b91d83",
   "metadata": {},
   "source": [
    "# Assignment 1\n",
    "### Understanding Uncertainty\n",
    "### Due 9/5"
   ]
  },
  {
   "cell_type": "markdown",
   "id": "380e339f",
   "metadata": {},
   "source": [
    "1. Create a new public repo on Github under your account. Include a readme file.\n",
    "2. Clone it to your machine. Put this file into that repo.\n",
    "3. Use the following function to download the example data for the course:"
   ]
  },
  {
   "cell_type": "code",
   "execution_count": null,
   "id": "2d62b4f6",
   "metadata": {},
   "outputs": [
    {
     "name": "stdout",
     "output_type": "stream",
     "text": [
      "Download file already exists\n",
      "Data directory already exists\n"
     ]
    }
   ],
   "source": [
    "def download_data(force=False):\n",
    "    \"\"\"Download and extract course data from Zenodo.\"\"\"\n",
    "    import urllib.request, zipfile, os\n",
    "    \n",
    "    zip_path = 'data.zip'\n",
    "    data_dir = 'data'\n",
    "    \n",
    "    if not os.path.exists(zip_path) or force:\n",
    "        print(\"Downloading course data\")\n",
    "        urllib.request.urlretrieve(\n",
    "            'https://zenodo.org/records/16954427/files/data.zip?download=1',\n",
    "            zip_path\n",
    "        )\n",
    "        print(\"Download complete\")\n",
    "    else:\n",
    "        print(\"Download file already exists\")\n",
    "        \n",
    "    if not os.path.exists(data_dir) or force:\n",
    "        print(\"Extracting data files...\")\n",
    "        with zipfile.ZipFile(zip_path, 'r') as zip_ref:\n",
    "            zip_ref.extractall(data_dir)\n",
    "        print(\"Data extracted\")\n",
    "    else:\n",
    "        print(\"Data directory already exists\")\n",
    "\n",
    "download_data()"
   ]
  },
  {
   "cell_type": "markdown",
   "id": "01db0045",
   "metadata": {},
   "source": [
    "4. Open one of the datasets using Pandas:\n",
    "    1. `ames_prices.csv`: Housing characteristics and prices\n",
    "    2. `college_completion.csv`: Public, nonprofit, and for-profit educational institutions, graduation rates, and financial aid\n",
    "    3. `ForeignGifts_edu.csv`: Monetary and in-kind transfers from foreign entities to U.S. educational institutions\n",
    "    4. `iowa.csv`: Liquor sales in Iowa, at the transaction level\n",
    "    5. `metabric.csv`: Cancer patient and outcome data\n",
    "    6. `mn_police_use_of_force.csv`: Records of physical altercations between Minnessota police and private citizens\n",
    "    7. `nhanes_data_17_18.csv`: National Health and Nutrition Examination Survey\n",
    "    8. `tuna.csv`: Yellowfin Tuna Genome (I don't recommend this one; it's just a sequence of G, C, A, T )\n",
    "    9. `va_procurement.csv`: Public spending by the state of Virginia"
   ]
  },
  {
   "cell_type": "code",
   "execution_count": 7,
   "id": "a127f586",
   "metadata": {},
   "outputs": [
    {
     "data": {
      "text/html": [
       "<div>\n",
       "<style scoped>\n",
       "    .dataframe tbody tr th:only-of-type {\n",
       "        vertical-align: middle;\n",
       "    }\n",
       "\n",
       "    .dataframe tbody tr th {\n",
       "        vertical-align: top;\n",
       "    }\n",
       "\n",
       "    .dataframe thead th {\n",
       "        text-align: right;\n",
       "    }\n",
       "</style>\n",
       "<table border=\"1\" class=\"dataframe\">\n",
       "  <thead>\n",
       "    <tr style=\"text-align: right;\">\n",
       "      <th></th>\n",
       "      <th>Type of Breast Surgery</th>\n",
       "      <th>Cancer Type</th>\n",
       "      <th>Chemotherapy</th>\n",
       "      <th>Hormone Therapy</th>\n",
       "      <th>Lymph nodes examined positive</th>\n",
       "      <th>Mutation Count</th>\n",
       "      <th>Nottingham prognostic index</th>\n",
       "      <th>Overall Survival (Months)</th>\n",
       "      <th>Overall Survival Status</th>\n",
       "      <th>Radio Therapy</th>\n",
       "      <th>TMB (nonsynonymous)</th>\n",
       "      <th>Tumor Size</th>\n",
       "      <th>Tumor Stage</th>\n",
       "    </tr>\n",
       "    <tr>\n",
       "      <th>Age at Diagnosis</th>\n",
       "      <th></th>\n",
       "      <th></th>\n",
       "      <th></th>\n",
       "      <th></th>\n",
       "      <th></th>\n",
       "      <th></th>\n",
       "      <th></th>\n",
       "      <th></th>\n",
       "      <th></th>\n",
       "      <th></th>\n",
       "      <th></th>\n",
       "      <th></th>\n",
       "      <th></th>\n",
       "    </tr>\n",
       "  </thead>\n",
       "  <tbody>\n",
       "    <tr>\n",
       "      <th>43.19</th>\n",
       "      <td>BREAST CONSERVING</td>\n",
       "      <td>Breast Cancer</td>\n",
       "      <td>NO</td>\n",
       "      <td>YES</td>\n",
       "      <td>0.0</td>\n",
       "      <td>2.0</td>\n",
       "      <td>4.020</td>\n",
       "      <td>84.633333</td>\n",
       "      <td>0:LIVING</td>\n",
       "      <td>YES</td>\n",
       "      <td>2.615035</td>\n",
       "      <td>10.0</td>\n",
       "      <td>1.0</td>\n",
       "    </tr>\n",
       "    <tr>\n",
       "      <th>48.87</th>\n",
       "      <td>MASTECTOMY</td>\n",
       "      <td>Breast Cancer</td>\n",
       "      <td>YES</td>\n",
       "      <td>YES</td>\n",
       "      <td>1.0</td>\n",
       "      <td>2.0</td>\n",
       "      <td>4.030</td>\n",
       "      <td>163.700000</td>\n",
       "      <td>1:DECEASED</td>\n",
       "      <td>NO</td>\n",
       "      <td>2.615035</td>\n",
       "      <td>15.0</td>\n",
       "      <td>2.0</td>\n",
       "    </tr>\n",
       "    <tr>\n",
       "      <th>47.68</th>\n",
       "      <td>MASTECTOMY</td>\n",
       "      <td>Breast Cancer</td>\n",
       "      <td>YES</td>\n",
       "      <td>YES</td>\n",
       "      <td>3.0</td>\n",
       "      <td>1.0</td>\n",
       "      <td>4.050</td>\n",
       "      <td>164.933333</td>\n",
       "      <td>0:LIVING</td>\n",
       "      <td>YES</td>\n",
       "      <td>1.307518</td>\n",
       "      <td>25.0</td>\n",
       "      <td>2.0</td>\n",
       "    </tr>\n",
       "    <tr>\n",
       "      <th>76.97</th>\n",
       "      <td>MASTECTOMY</td>\n",
       "      <td>Breast Cancer</td>\n",
       "      <td>YES</td>\n",
       "      <td>YES</td>\n",
       "      <td>8.0</td>\n",
       "      <td>2.0</td>\n",
       "      <td>6.080</td>\n",
       "      <td>41.366667</td>\n",
       "      <td>1:DECEASED</td>\n",
       "      <td>YES</td>\n",
       "      <td>2.615035</td>\n",
       "      <td>40.0</td>\n",
       "      <td>2.0</td>\n",
       "    </tr>\n",
       "    <tr>\n",
       "      <th>78.77</th>\n",
       "      <td>MASTECTOMY</td>\n",
       "      <td>Breast Cancer</td>\n",
       "      <td>NO</td>\n",
       "      <td>YES</td>\n",
       "      <td>0.0</td>\n",
       "      <td>4.0</td>\n",
       "      <td>4.062</td>\n",
       "      <td>7.800000</td>\n",
       "      <td>1:DECEASED</td>\n",
       "      <td>YES</td>\n",
       "      <td>5.230071</td>\n",
       "      <td>31.0</td>\n",
       "      <td>4.0</td>\n",
       "    </tr>\n",
       "  </tbody>\n",
       "</table>\n",
       "</div>"
      ],
      "text/plain": [
       "                 Type of Breast Surgery    Cancer Type Chemotherapy  \\\n",
       "Age at Diagnosis                                                      \n",
       "43.19                 BREAST CONSERVING  Breast Cancer           NO   \n",
       "48.87                        MASTECTOMY  Breast Cancer          YES   \n",
       "47.68                        MASTECTOMY  Breast Cancer          YES   \n",
       "76.97                        MASTECTOMY  Breast Cancer          YES   \n",
       "78.77                        MASTECTOMY  Breast Cancer           NO   \n",
       "\n",
       "                 Hormone Therapy  Lymph nodes examined positive  \\\n",
       "Age at Diagnosis                                                  \n",
       "43.19                        YES                            0.0   \n",
       "48.87                        YES                            1.0   \n",
       "47.68                        YES                            3.0   \n",
       "76.97                        YES                            8.0   \n",
       "78.77                        YES                            0.0   \n",
       "\n",
       "                  Mutation Count  Nottingham prognostic index  \\\n",
       "Age at Diagnosis                                                \n",
       "43.19                        2.0                        4.020   \n",
       "48.87                        2.0                        4.030   \n",
       "47.68                        1.0                        4.050   \n",
       "76.97                        2.0                        6.080   \n",
       "78.77                        4.0                        4.062   \n",
       "\n",
       "                  Overall Survival (Months) Overall Survival Status  \\\n",
       "Age at Diagnosis                                                      \n",
       "43.19                             84.633333                0:LIVING   \n",
       "48.87                            163.700000              1:DECEASED   \n",
       "47.68                            164.933333                0:LIVING   \n",
       "76.97                             41.366667              1:DECEASED   \n",
       "78.77                              7.800000              1:DECEASED   \n",
       "\n",
       "                 Radio Therapy  TMB (nonsynonymous)  Tumor Size  Tumor Stage  \n",
       "Age at Diagnosis                                                              \n",
       "43.19                      YES             2.615035        10.0          1.0  \n",
       "48.87                       NO             2.615035        15.0          2.0  \n",
       "47.68                      YES             1.307518        25.0          2.0  \n",
       "76.97                      YES             2.615035        40.0          2.0  \n",
       "78.77                      YES             5.230071        31.0          4.0  "
      ]
     },
     "execution_count": 7,
     "metadata": {},
     "output_type": "execute_result"
    }
   ],
   "source": [
    "import pandas as pd\n",
    "import numpy as np\n",
    "\n",
    "\n",
    "df = pd.read_csv('metabric.csv', index_col=0)\n",
    "df.head()"
   ]
  },
  {
   "cell_type": "markdown",
   "id": "fa5cade1",
   "metadata": {},
   "source": [
    "5. Pick two or three variables and briefly analyze them\n",
    "    - Is it a categorical or numeric variable?\n",
    "    - How many missing values are there? (`df['var'].isna()` and `np.sum()`)\n",
    "    - If categorical, tabulate the values (`df['var'].value_counts()`) and if numeric, get a summary (`df['var'].describe()`)"
   ]
  },
  {
   "cell_type": "code",
   "execution_count": 9,
   "id": "7e57c634",
   "metadata": {},
   "outputs": [
    {
     "data": {
      "text/plain": [
       "count    1343.000000\n",
       "mean      129.094291\n",
       "std        78.290236\n",
       "min         0.100000\n",
       "25%        62.700000\n",
       "50%       118.533333\n",
       "75%       191.200000\n",
       "max       351.000000\n",
       "Name: Overall Survival (Months), dtype: float64"
      ]
     },
     "execution_count": 9,
     "metadata": {},
     "output_type": "execute_result"
    }
   ],
   "source": [
    "# This a categorical variable\n",
    "df['Type of Breast Surgery'].isna()\n",
    "df['Type of Breast Surgery'].value_counts()\n",
    "\n",
    "# This is a catagorical variable\n",
    "df['Chemotherapy'].isna()\n",
    "df['Chemotherapy'].value_counts()\n",
    "\n",
    "# This is a numeric variable\n",
    "df['Overall Survival (Months)'].isna()\n",
    "df['Overall Survival (Months)'].describe()"
   ]
  },
  {
   "cell_type": "markdown",
   "id": "dbf2318a",
   "metadata": {},
   "source": [
    "6. What are some questions and prediction tools you could create using these data? Who would the stakeholder be for that prediction tool? What practical or ethical questions would it create? What other data would you want, that are not available in your data?"
   ]
  },
  {
   "cell_type": "markdown",
   "id": "254e38b1",
   "metadata": {},
   "source": [
    "With the METABRIC dataset, we could make tools to predict things like survival, recurrence risk, treatment response, or cancer subtypes. These would mainly help doctors and patients, but also researchers and hospitals. At the same time, there are ethical concerns like bias in the data, patient privacy, and making sure everyone has equal access. It would also be useful to have more information, like treatment details, lifestyle habits, other health conditions, and socioeconomic factors, since those can all affect outcomes."
   ]
  },
  {
   "cell_type": "markdown",
   "id": "a4a7ddc7",
   "metadata": {},
   "source": [
    "7. Commit your work to the repo (`git commit -am 'Finish assignment'` at the command line, or use the Git panel in VS Code). Push your work back to Github and submit the link on Canvas in the assignment tab."
   ]
  }
 ],
 "metadata": {
  "kernelspec": {
   "display_name": "base",
   "language": "python",
   "name": "python3"
  },
  "language_info": {
   "codemirror_mode": {
    "name": "ipython",
    "version": 3
   },
   "file_extension": ".py",
   "mimetype": "text/x-python",
   "name": "python",
   "nbconvert_exporter": "python",
   "pygments_lexer": "ipython3",
   "version": "3.13.5"
  }
 },
 "nbformat": 4,
 "nbformat_minor": 5
}
